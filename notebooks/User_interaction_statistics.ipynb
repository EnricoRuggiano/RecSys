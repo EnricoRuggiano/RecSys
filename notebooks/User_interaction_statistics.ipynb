{
 "cells": [
  {
   "cell_type": "code",
   "execution_count": 1,
   "metadata": {},
   "outputs": [
    {
     "name": "stdout",
     "output_type": "stream",
     "text": [
      "Number of users:\t 50446,\n",
      "Number of items:\t 20635\n",
      "\n"
     ]
    }
   ],
   "source": [
    "import os\n",
    "os.chdir('..')\n",
    "\n",
    "import numpy as np\n",
    "import modules.importer as imp\n",
    "import matplotlib.pyplot as pyp\n",
    "\n",
    "\n",
    "URM_matrix = imp.create_URM()\n",
    "\n",
    "number_users = URM_matrix.shape[0]\n",
    "number_items = URM_matrix.shape[1]\n",
    "\n",
    "print(\"Number of users:\\t {},\\nNumber of items:\\t {}\\n\"\\\n",
    "      .format(number_users, number_items))"
   ]
  },
  {
   "cell_type": "code",
   "execution_count": 16,
   "metadata": {},
   "outputs": [
    {
     "name": "stdout",
     "output_type": "stream",
     "text": [
      "Sparsity: 99.88%\n"
     ]
    }
   ],
   "source": [
    "item_number_interaction = np.array(np.sum(URM_matrix, axis = 0)).squeeze()\n",
    "user_number_interaction = np.array(np.sum(URM_matrix, axis = 1)).squeeze()\n",
    "total_number_interactions = np.sum(user_number_interaction)\n",
    "\n",
    "print(\"Sparsity: {:.2f}%\".format((1 - (total_number_interactions / (number_users * number_items))) * 100))"
   ]
  },
  {
   "cell_type": "markdown",
   "metadata": {},
   "source": [
    "# Item interaction statistics"
   ]
  },
  {
   "cell_type": "code",
   "execution_count": 23,
   "metadata": {},
   "outputs": [
    {
     "name": "stdout",
     "output_type": "stream",
     "text": [
      "Item interaction statistics\n",
      "\n",
      "Average interactions x item:\t 58.73\n",
      "Max interaction x item:\t 1785,\n",
      "Min interaction x item:\t 1,\n",
      "Standard deviation:\t 119.94394212435778\n",
      "\n",
      "Percentiles:\n",
      "25%:\t 4.0,\n",
      "50%:\t 15.0,\n",
      "75%:\t 56.0,\n",
      "90%:\t 157.0\n",
      "\n",
      "Number of items with zero interaction:\t 0,\tPercentage: 0.000000%\n",
      "Number of items with min interaction:\t 2538,\tPercentage: 12.299491%\n",
      "\n",
      "Number of top interaction per items:\t 2063,\tAverage interaction: 341.308289\n"
     ]
    }
   ],
   "source": [
    "# item interaction  \n",
    "avg_interaction_item = np.average(item_number_interaction)\n",
    "max_interaction_item = np.max(item_number_interaction)\n",
    "min_interaction_item = np.min(item_number_interaction)\n",
    "std_interaction_item = np.std(item_number_interaction)\n",
    "\n",
    "interaction_item_sorted = np.sort(item_number_interaction)[::-1]\n",
    "interaction_item_percentile = np.percentile(item_number_interaction, [25, 50, 75, 90])\n",
    "\n",
    "zero_interaction_item = np.where(item_number_interaction == 0)[0]\n",
    "id_min_interaction_item = np.where(item_number_interaction == min_interaction_item)[0]\n",
    "\n",
    "number_zero_interaction_item = len (zero_interaction_item)\n",
    "number_min_interaction_item = len (id_min_interaction_item)\n",
    "\n",
    "top_interaction_item = interaction_item_sorted[:int(0.1*number_items)]\n",
    "avg_top_interaction_item = np.average(top_interaction_item)\n",
    "\n",
    "print (\"Item interaction statistics\\n\")\n",
    "print (\"Average interactions x item:\\t {:.2f}\".format(avg_interaction_item))\n",
    "print (\"Max interaction x item:\\t {},\\nMin interaction x item:\\t {},\\nStandard deviation:\\t {}\".\\\n",
    "       format(max_interaction_item, min_interaction_item, std_interaction_item))\n",
    "print (\"\\nPercentiles:\\n25%:\\t {},\\n50%:\\t {},\\n75%:\\t {},\\n90%:\\t {}\\n\".\\\n",
    "       format(interaction_item_percentile[0],interaction_item_percentile[1],\\\n",
    "              interaction_item_percentile[2],interaction_item_percentile[3] ))\n",
    "print (\"Number of items with zero interaction:\\t {},\\tPercentage: {:2f}%\".\\\n",
    "       format(number_zero_interaction_item, (number_zero_interaction_item / number_items)*100))\n",
    "print (\"Number of items with min interaction:\\t {},\\tPercentage: {:2f}%\".\\\n",
    "       format(number_min_interaction_item, (number_min_interaction_item / number_items)*100))\n",
    "print (\"\\nNumber of top interaction per items:\\t {},\\tAverage interaction: {:2f}\".\\\n",
    "       format(top_interaction_item.shape[0], avg_top_interaction_item))"
   ]
  },
  {
   "cell_type": "markdown",
   "metadata": {},
   "source": [
    "### Distribution of Interaction x items"
   ]
  },
  {
   "cell_type": "code",
   "execution_count": 24,
   "metadata": {},
   "outputs": [
    {
     "data": {
      "image/png": "[encoded data removed]",
      "text/plain": [
       "<Figure size 432x288 with 1 Axes>"
      ]
     },
     "metadata": {},
     "output_type": "display_data"
    }
   ],
   "source": [
    "pyp.plot(interaction_item_sorted, 'c.')\n",
    "pyp.ylabel('Num Interactions ')\n",
    "pyp.xlabel('Item')\n",
    "pyp.show()"
   ]
  },
  {
   "cell_type": "markdown",
   "metadata": {},
   "source": [
    "# User interaction statistics"
   ]
  },
  {
   "cell_type": "code",
   "execution_count": 25,
   "metadata": {},
   "outputs": [
    {
     "name": "stdout",
     "output_type": "stream",
     "text": [
      "User interaction statistics\n",
      "\n",
      "Average interactions x user 24.02\n",
      "Max interaction x user:\t 100,\n",
      "Min interaction x user:\t 5,\n",
      "Standard deviation:\t 16.114784206509434\n",
      "\n",
      "Percentiles:\n",
      "25%:\t 11.0,\n",
      "50%:\t 20.0,\n",
      "75%:\t 33.0,\n",
      "90%:\t 48.0\n",
      "\n",
      "Number of users with zero interaction:\t 0,\tPercentage: 0.000000%\n",
      "Number of users with min interaction:\t 1788,\tPercentage: 3.544384%\n",
      "\n",
      "Number of top interaction per user:\t 5045,\tAverage interaction: 58.782359\n"
     ]
    }
   ],
   "source": [
    "# user interaction  \n",
    "avg_iteraction_user = np.average(user_number_interaction)\n",
    "max_interaction_user = np.max(user_number_interaction)\n",
    "min_interaction_user = np.min(user_number_interaction)\n",
    "std_interaction_user = np.std(user_number_interaction)\n",
    "\n",
    "interaction_user_sorted = np.sort(user_number_interaction)\n",
    "interaction_user_percentile = np.percentile(user_number_interaction, [25, 50, 75, 90])\n",
    "\n",
    "zero_interaction_user = np.where(user_number_interaction == 0)[0]\n",
    "id_min_interaction_user = np.where(user_number_interaction == min_interaction_user)[0]\n",
    "\n",
    "number_zero_interaction_user = len (zero_interaction_user)\n",
    "number_min_interaction_user = len (id_min_interaction_user)\n",
    "\n",
    "top_interaction_user = np.array(interaction_user_sorted[int(number_users * 0.9):])\n",
    "avg_top_interaction_user = np.average(top_interaction_user)\n",
    "\n",
    "print (\"User interaction statistics\\n\")\n",
    "print (\"Average interactions x user {:.2f}\".format(avg_iteraction_user))\n",
    "print (\"Max interaction x user:\\t {},\\nMin interaction x user:\\t {},\\nStandard deviation:\\t {}\".\\\n",
    "       format(max_interaction_user, min_interaction_user, std_interaction_user))\n",
    "print (\"\\nPercentiles:\\n25%:\\t {},\\n50%:\\t {},\\n75%:\\t {},\\n90%:\\t {}\\n\".\\\n",
    "       format(interaction_user_percentile[0],interaction_user_percentile[1],\\\n",
    "              interaction_user_percentile[2],interaction_user_percentile[3]))\n",
    "print (\"Number of users with zero interaction:\\t {},\\tPercentage: {:2f}%\".\\\n",
    "       format(number_zero_interaction_user, (number_zero_interaction_user / number_users)*100))\n",
    "print (\"Number of users with min interaction:\\t {},\\tPercentage: {:2f}%\".\\\n",
    "       format(number_min_interaction_user, (number_min_interaction_user / number_users)*100))\n",
    "print (\"\\nNumber of top interaction per user:\\t {},\\tAverage interaction: {:2f}\".\\\n",
    "       format(top_interaction_user.size, avg_top_interaction_user))"
   ]
  },
  {
   "cell_type": "markdown",
   "metadata": {},
   "source": [
    "### Distribution of Interaction x users"
   ]
  },
  {
   "cell_type": "code",
   "execution_count": 26,
   "metadata": {},
   "outputs": [
    {
     "data": {
      "image/png": "[encoded data removed]",
      "text/plain": [
       "<Figure size 432x288 with 1 Axes>"
      ]
     },
     "metadata": {},
     "output_type": "display_data"
    }
   ],
   "source": [
    "pyp.plot(interaction_user_sorted, 'm.')\n",
    "pyp.ylabel('Num Interactions ')\n",
    "pyp.xlabel('User Index')\n",
    "pyp.show()"
   ]
  },
  {
   "cell_type": "code",
   "execution_count": null,
   "metadata": {},
   "outputs": [],
   "source": []
  }
 ],
 "metadata": {
  "kernelspec": {
   "display_name": "Python 3",
   "language": "python",
   "name": "python3"
  },
  "language_info": {
   "codemirror_mode": {
    "name": "ipython",
    "version": 3
   },
   "file_extension": ".py",
   "mimetype": "text/x-python",
   "name": "python",
   "nbconvert_exporter": "python",
   "pygments_lexer": "ipython3",
   "version": "3.6.6"
  }
 },
 "nbformat": 4,
 "nbformat_minor": 2
}
