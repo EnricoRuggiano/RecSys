{
 "cells": [
  {
   "cell_type": "markdown",
   "metadata": {},
   "source": [
    "# Item Statistics\n",
    "\n",
    "## Exploration of features of the tracks"
   ]
  },
  {
   "cell_type": "code",
   "execution_count": 1,
   "metadata": {},
   "outputs": [],
   "source": [
    "import os\n",
    "os.chdir('..')\n",
    "\n",
    "import numpy as np\n",
    "import modules.importer as imp\n",
    "\n",
    "ICM_matrix = imp.create_ICM()"
   ]
  },
  {
   "cell_type": "code",
   "execution_count": 2,
   "metadata": {},
   "outputs": [
    {
     "name": "stdout",
     "output_type": "stream",
     "text": [
      "[[ 6306.   449.   167.]\n",
      " [12085.  4903.   185.]\n",
      " [ 1885.  6358.   201.]\n",
      " ...\n",
      " [ 8202.  6200.   203.]\n",
      " [ 4789.  3720.   415.]\n",
      " [12529.    56.   252.]]\n"
     ]
    }
   ],
   "source": [
    "print(ICM_matrix)"
   ]
  },
  {
   "cell_type": "code",
   "execution_count": 3,
   "metadata": {
    "scrolled": true
   },
   "outputs": [
    {
     "name": "stdout",
     "output_type": "stream",
     "text": [
      "Number of tracks: 20635\n",
      "Length track duration statistics\n",
      "\n",
      "Average length:\t 234.83455294402714,\n",
      "Max length:\t 2114.0,\n",
      "Min length:\t 0.0,\n",
      "Standard deviation:\t 75.87422964162312\n",
      "\n",
      "Percentiles:\n",
      "25%:\t 190.0,\n",
      "50%:\t 225.0,\n",
      "75%:\t 267.0\n"
     ]
    }
   ],
   "source": [
    "# Statistics \n",
    "\n",
    "'''\n",
    "item_numbers, avg_length_track, more_frequent_artist\n",
    "number_album_per_artist, number_tracks_per_album, avg_length_track_per_artist, avg_length_track_per_album\n",
    "'''\n",
    "\n",
    "item_numbers = np.shape(ICM_matrix)[0]\n",
    "print (\"Number of tracks: {}\".format(item_numbers))\n",
    "\n",
    "\n",
    "# track length duration \n",
    "avg_length_track = np.average(ICM_matrix[:,2])\n",
    "max_length_track = np.max(ICM_matrix[:,2])\n",
    "min_length_track = np.min(ICM_matrix[:,2])\n",
    "std_length_track = np.std(ICM_matrix[:,2])\n",
    "\n",
    "# percentiles\n",
    "length_track_sorted = np.sort(ICM_matrix[:,2])\n",
    "length_track_percentile = np.percentile(ICM_matrix[:,2], [25, 50, 75])\n",
    "\n",
    "print (\"Length track duration statistics\\n\")\n",
    "print (\"Average length:\\t {},\\nMax length:\\t {},\\nMin length:\\t {},\\nStandard deviation:\\t {}\".\\\n",
    "       format(avg_length_track, max_length_track, min_length_track, std_length_track))\n",
    "print (\"\\nPercentiles:\\n25%:\\t {},\\n50%:\\t {},\\n75%:\\t {}\".\\\n",
    "       format(length_track_percentile[0],length_track_percentile[1],\\\n",
    "              length_track_percentile[2]))\n"
   ]
  },
  {
   "cell_type": "markdown",
   "metadata": {},
   "source": [
    "## Invalid tracks\n",
    "### duration feature = 0"
   ]
  },
  {
   "cell_type": "code",
   "execution_count": 4,
   "metadata": {},
   "outputs": [
    {
     "name": "stdout",
     "output_type": "stream",
     "text": [
      "Number of invalid track:\t 2,\n",
      "Number of valid track:\t 20633,\n",
      "Percentage:\t 0.00969227041434456\n",
      "Invalid track statistics\n",
      "Invalid track ids:\t [17679 18159]\n",
      "\n",
      "Id:\t 17679,\t Album_id: 7609.0,\t Artist_id: 602.0,\t Duration: 0.0\n",
      "Id:\t 18159,\t Album_id: 7609.0,\t Artist_id: 602.0,\t Duration: 0.0\n"
     ]
    }
   ],
   "source": [
    "number_valid_tracks = ICM_matrix[ICM_matrix[:,2]>0].shape[0]\n",
    "number_of_invalid_tracks = item_numbers - number_valid_tracks \n",
    "invalid_tracks_ids = (np.where(ICM_matrix[:,2] == 0))[0]\n",
    "\n",
    "print(\"Number of invalid track:\\t {},\\nNumber of valid track:\\t {},\\nPercentage:\\t {}\".format\\\n",
    "      (number_of_invalid_tracks, number_valid_tracks, (number_of_invalid_tracks / item_numbers) * 100))\n",
    "\n",
    "print(\"Invalid track statistics\")\n",
    "print(\"Invalid track ids:\\t {}\\n\".format(invalid_tracks_ids))\n",
    "print(\"Id:\\t {},\\t Album_id: {},\\t Artist_id: {},\\t Duration: {}\".format\\\n",
    "      (invalid_tracks_ids[0], ICM_matrix[invalid_tracks_ids[0], 0], \\\n",
    "       ICM_matrix[invalid_tracks_ids[0], 1], ICM_matrix[invalid_tracks_ids[0], 2]))\n",
    "print(\"Id:\\t {},\\t Album_id: {},\\t Artist_id: {},\\t Duration: {}\".format\\\n",
    "      (invalid_tracks_ids[1], ICM_matrix[invalid_tracks_ids[1], 0], \\\n",
    "       ICM_matrix[invalid_tracks_ids[1], 1], ICM_matrix[invalid_tracks_ids[1], 2]))\n"
   ]
  },
  {
   "cell_type": "code",
   "execution_count": 12,
   "metadata": {},
   "outputs": [
    {
     "data": {
      "image/png": "[encoded data removed]",
      "text/plain": [
       "<Figure size 432x288 with 1 Axes>"
      ]
     },
     "metadata": {},
     "output_type": "display_data"
    }
   ],
   "source": [
    "from matplotlib.pyplot import *\n",
    "\n",
    "plot(length_track_sorted, 'c.')\n",
    "ylabel(\"Track Length\")\n",
    "xlabel(\"Id Track\")\n",
    "show()"
   ]
  },
  {
   "cell_type": "code",
   "execution_count": 6,
   "metadata": {},
   "outputs": [
    {
     "name": "stdout",
     "output_type": "stream",
     "text": [
      "\n",
      "Artists statistics:\n",
      "\n",
      "Number of artists:\t 6668\n",
      "\n"
     ]
    }
   ],
   "source": [
    "print(\"\\nArtists statistics:\\n\")\n",
    "\n",
    "artist_list = set(ICM_matrix[:,1])\n",
    "number_of_artist = len (artist_list)\n",
    "\n",
    "print(\"Number of artists:\\t {}\\n\".format(number_of_artist))"
   ]
  },
  {
   "cell_type": "code",
   "execution_count": 7,
   "metadata": {},
   "outputs": [],
   "source": [
    "sliced_per_artist = []\n",
    "\n",
    "for artist in artist_list:\n",
    "    artist_tuple = []\n",
    "    \n",
    "    for row in ICM_matrix:\n",
    "        if row[1] == artist:\n",
    "            artist_tuple.append(row)\n",
    "    \n",
    "    sliced_per_artist.append(artist_tuple)"
   ]
  },
  {
   "cell_type": "code",
   "execution_count": 8,
   "metadata": {},
   "outputs": [],
   "source": [
    "def get_album_number(artist_tuple):\n",
    "    album_list = []\n",
    "    for elem in artist_tuple:\n",
    "        album_list.append(elem[0])\n",
    "    return set(album_list)\n",
    "\n",
    "def get_statistics_per_artist(sliced_list):\n",
    "    result = []\n",
    "    for elem in sliced_list:\n",
    "        result.append([elem[0][1], len(elem), len(get_album_number(elem))]) \n",
    "    return np.array(result)    \n",
    "\n",
    "# artist_id, num_of_track, num_of_albums        \n",
    "artists_statistics = get_statistics_per_artist(sliced_per_artist)"
   ]
  },
  {
   "cell_type": "code",
   "execution_count": 9,
   "metadata": {},
   "outputs": [
    {
     "name": "stdout",
     "output_type": "stream",
     "text": [
      "\n",
      "Tracks per artist informations:\n",
      "\n",
      "Average number of tracks x artist:\t 3.094631073785243,\n",
      "Max number of tracks x artist:\t 84.0,\n",
      "Min number of tracks x artist:\t 1.0,\n",
      "Standard deviation of number of tracks x artist:\t 5.258285201110242\n",
      "\n",
      "\n",
      "Percentiles:\n",
      "25%:\t 1.0,\n",
      "50%:\t 1.0,\n",
      "75%:\t 3.0,\n",
      "95%:\t 11.0\n",
      "\n",
      "Artist with highest number of tracks:\t2175\n",
      "\n"
     ]
    },
    {
     "data": {
      "image/png": "[encoded data removed]",
      "text/plain": [
       "<Figure size 432x288 with 1 Axes>"
      ]
     },
     "metadata": {},
     "output_type": "display_data"
    }
   ],
   "source": [
    "# statistics\n",
    "avg_num_tracks_per_artist = np.average(artists_statistics[:,1])\n",
    "num_tracks_of_bfrequent_artist = np.max(artists_statistics[:,1])\n",
    "num_tracks_of_lfrequent_artist = np.min(artists_statistics[:,1])\n",
    "sd_num_tracks_per_artist = np.std(artists_statistics[:,1])\n",
    "\n",
    "track_bfrequent_artist = np.argmax(artists_statistics[:,1])\n",
    "\n",
    "# percentiles\n",
    "artist_ntrack = artists_statistics[:,1]\n",
    "artist_ntrack_sorted = np.sort(artists_statistics[:,1])\n",
    "artist_ntrack_percentile = np.percentile(artists_statistics[:,1], [25,50,75,95])\n",
    "\n",
    "print(\"\\nTracks per artist informations:\\n\")\n",
    "print(\"Average number of tracks x artist:\\t {},\\nMax number of tracks x artist:\\t {},\\n\"\\\n",
    "      \"Min number of tracks x artist:\\t {},\\nStandard deviation of number of tracks x artist:\\t {}\\n\"\\\n",
    "      .format(avg_num_tracks_per_artist, num_tracks_of_bfrequent_artist, \\\n",
    "              num_tracks_of_lfrequent_artist, sd_num_tracks_per_artist))\n",
    "print (\"\\nPercentiles:\\n25%:\\t {},\\n50%:\\t {},\\n75%:\\t {},\\n95%:\\t {}\".\\\n",
    "       format(artist_ntrack_percentile[0], artist_ntrack_percentile[1],\\\n",
    "              artist_ntrack_percentile[2], artist_ntrack_percentile[3]))\n",
    "\n",
    "print(\"\\nArtist with highest number of tracks:\\t{}\\n\".format(track_bfrequent_artist))\n",
    "\n",
    "# plot\n",
    "plot(artist_ntrack_sorted, 'c.')\n",
    "ylabel(\"Number of Tracks\")\n",
    "xlabel(\"Artist\")\n",
    "show()"
   ]
  },
  {
   "cell_type": "code",
   "execution_count": 10,
   "metadata": {},
   "outputs": [
    {
     "name": "stdout",
     "output_type": "stream",
     "text": [
      "\n",
      "Album per artist informations:\n",
      "\n",
      "Average number of albums x artist:\t 1.9518596280743852,\n",
      "Max number of albums x artist:\t 27.0,\n",
      "Min number of albums x artist:\t 1.0,\n",
      "Standard deviation of number of albums x artist:\t 2.001332299968399\n",
      "\n",
      "\n",
      "Percentiles:\n",
      "25%:\t 1.0,\n",
      "50%:\t 1.0,\n",
      "75%:\t 2.0,\n",
      "95%:\t 6.0\n",
      "\n",
      "Artist with highest number of albums:\t4327\n",
      "\n"
     ]
    },
    {
     "data": {
      "image/png": "[encoded data removed]",
      "text/plain": [
       "<Figure size 432x288 with 1 Axes>"
      ]
     },
     "metadata": {},
     "output_type": "display_data"
    }
   ],
   "source": [
    "avg_num_album_per_artist = np.average(artists_statistics[:,2])\n",
    "num_album_of_bfrequent_artist = np.max(artists_statistics[:,2])\n",
    "num_album_of_lfrequent_artist = np.min(artists_statistics[:,2])\n",
    "sd_num_album_per_artist = np.std(artists_statistics[:,2])\n",
    "\n",
    "album_bfrequent_artist = np.argmax(artists_statistics[:,2])\n",
    "\n",
    "# percentiles\n",
    "artist_nalbum = artists_statistics[:,2]\n",
    "artist_nalbum_sorted = np.sort(artists_statistics[:,2])\n",
    "artist_nalbum_percentile = np.percentile(artists_statistics[:,2], [25,50,75,95])\n",
    "\n",
    "print(\"\\nAlbum per artist informations:\\n\")\n",
    "print(\"Average number of albums x artist:\\t {},\\nMax number of albums x artist:\\t {},\\n\"\\\n",
    "      \"Min number of albums x artist:\\t {},\\nStandard deviation of number of albums x artist:\\t {}\\n\"\\\n",
    "      .format(avg_num_album_per_artist, num_album_of_bfrequent_artist, \\\n",
    "              num_album_of_lfrequent_artist, sd_num_album_per_artist))\n",
    "print (\"\\nPercentiles:\\n25%:\\t {},\\n50%:\\t {},\\n75%:\\t {},\\n95%:\\t {}\".\\\n",
    "       format(artist_nalbum_percentile[0], artist_nalbum_percentile[1],\\\n",
    "              artist_nalbum_percentile[2], artist_nalbum_percentile[3]))\n",
    "\n",
    "print(\"\\nArtist with highest number of albums:\\t{}\\n\".format(album_bfrequent_artist))\n",
    "\n",
    "# plot\n",
    "plot(artist_nalbum_sorted, 'm.')\n",
    "ylabel(\"Number of Albums\")\n",
    "xlabel(\"Artist\")\n",
    "show()"
   ]
  },
  {
   "cell_type": "code",
   "execution_count": 11,
   "metadata": {},
   "outputs": [
    {
     "name": "stdout",
     "output_type": "stream",
     "text": [
      "[4327.   48.   27.]\n",
      "[2175.   84.   19.]\n"
     ]
    }
   ],
   "source": [
    "print(artists_statistics[album_bfrequent_artist])\n",
    "print(artists_statistics[track_bfrequent_artist])"
   ]
  }
 ],
 "metadata": {
  "kernelspec": {
   "display_name": "Python 3",
   "language": "python",
   "name": "python3"
  },
  "language_info": {
   "codemirror_mode": {
    "name": "ipython",
    "version": 3
   },
   "file_extension": ".py",
   "mimetype": "text/x-python",
   "name": "python",
   "nbconvert_exporter": "python",
   "pygments_lexer": "ipython3",
   "version": "3.6.6"
  }
 },
 "nbformat": 4,
 "nbformat_minor": 2
}
